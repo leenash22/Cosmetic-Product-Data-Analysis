{
 "cells": [
  {
   "cell_type": "code",
   "execution_count": 1,
   "id": "9ac8c721",
   "metadata": {},
   "outputs": [],
   "source": [
    "import numpy as np\n",
    "import pandas as pd\n",
    "import matplotlib.pyplot as plt"
   ]
  },
  {
   "cell_type": "code",
   "execution_count": 2,
   "id": "af8a1fd5",
   "metadata": {},
   "outputs": [
    {
     "data": {
      "text/html": [
       "<div>\n",
       "<style scoped>\n",
       "    .dataframe tbody tr th:only-of-type {\n",
       "        vertical-align: middle;\n",
       "    }\n",
       "\n",
       "    .dataframe tbody tr th {\n",
       "        vertical-align: top;\n",
       "    }\n",
       "\n",
       "    .dataframe thead th {\n",
       "        text-align: right;\n",
       "    }\n",
       "</style>\n",
       "<table border=\"1\" class=\"dataframe\">\n",
       "  <thead>\n",
       "    <tr style=\"text-align: right;\">\n",
       "      <th></th>\n",
       "      <th>product_name</th>\n",
       "      <th>country</th>\n",
       "      <th>category</th>\n",
       "      <th>subcategory</th>\n",
       "      <th>price</th>\n",
       "      <th>brand</th>\n",
       "      <th>form</th>\n",
       "      <th>type</th>\n",
       "      <th>size</th>\n",
       "      <th>rating</th>\n",
       "      <th>noofratings</th>\n",
       "    </tr>\n",
       "  </thead>\n",
       "  <tbody>\n",
       "    <tr>\n",
       "      <th>0</th>\n",
       "      <td>Fogg Paradise, No Gas Perfume Body Spray for W...</td>\n",
       "      <td>India</td>\n",
       "      <td>body</td>\n",
       "      <td>perfume</td>\n",
       "      <td>101.00</td>\n",
       "      <td>FOGG</td>\n",
       "      <td>aerosol</td>\n",
       "      <td>NaN</td>\n",
       "      <td>65</td>\n",
       "      <td>4.3</td>\n",
       "      <td>180</td>\n",
       "    </tr>\n",
       "    <tr>\n",
       "      <th>1</th>\n",
       "      <td>KamaSutra KS Woman Desire Perfume Spray 150</td>\n",
       "      <td>India</td>\n",
       "      <td>body</td>\n",
       "      <td>perfume</td>\n",
       "      <td>114.00</td>\n",
       "      <td>KS WOMAN</td>\n",
       "      <td>aerosol</td>\n",
       "      <td>NaN</td>\n",
       "      <td>150</td>\n",
       "      <td>4.2</td>\n",
       "      <td>163</td>\n",
       "    </tr>\n",
       "    <tr>\n",
       "      <th>2</th>\n",
       "      <td>La French Niche Edition Luxury Perfume Gift Se...</td>\n",
       "      <td>India</td>\n",
       "      <td>body</td>\n",
       "      <td>perfume</td>\n",
       "      <td>475.00</td>\n",
       "      <td>LA' French</td>\n",
       "      <td>aerosol</td>\n",
       "      <td>NaN</td>\n",
       "      <td>80</td>\n",
       "      <td>4.2</td>\n",
       "      <td>358</td>\n",
       "    </tr>\n",
       "    <tr>\n",
       "      <th>3</th>\n",
       "      <td>La French Euphoria Perfume for Men and Women |...</td>\n",
       "      <td>India</td>\n",
       "      <td>body</td>\n",
       "      <td>perfume</td>\n",
       "      <td>540.00</td>\n",
       "      <td>LA' French</td>\n",
       "      <td>aerosol</td>\n",
       "      <td>NaN</td>\n",
       "      <td>100</td>\n",
       "      <td>4.2</td>\n",
       "      <td>524</td>\n",
       "    </tr>\n",
       "    <tr>\n",
       "      <th>4</th>\n",
       "      <td>Park Avenue Neo Perfume For Men Fresh Long Las...</td>\n",
       "      <td>India</td>\n",
       "      <td>body</td>\n",
       "      <td>perfume</td>\n",
       "      <td>212.00</td>\n",
       "      <td>Park Avenue</td>\n",
       "      <td>aerosol</td>\n",
       "      <td>NaN</td>\n",
       "      <td>220</td>\n",
       "      <td>4.1</td>\n",
       "      <td>41</td>\n",
       "    </tr>\n",
       "    <tr>\n",
       "      <th>...</th>\n",
       "      <td>...</td>\n",
       "      <td>...</td>\n",
       "      <td>...</td>\n",
       "      <td>...</td>\n",
       "      <td>...</td>\n",
       "      <td>...</td>\n",
       "      <td>...</td>\n",
       "      <td>...</td>\n",
       "      <td>...</td>\n",
       "      <td>...</td>\n",
       "      <td>...</td>\n",
       "    </tr>\n",
       "    <tr>\n",
       "      <th>9833</th>\n",
       "      <td>Lock-It Finishing Powder</td>\n",
       "      <td>USA</td>\n",
       "      <td>face</td>\n",
       "      <td>powder</td>\n",
       "      <td>2859.50</td>\n",
       "      <td>KVD Beauty</td>\n",
       "      <td>powder</td>\n",
       "      <td>dry,oily,normal</td>\n",
       "      <td>8.4</td>\n",
       "      <td>4</td>\n",
       "      <td>29</td>\n",
       "    </tr>\n",
       "    <tr>\n",
       "      <th>9834</th>\n",
       "      <td>Lock-It Setting Powder</td>\n",
       "      <td>USA</td>\n",
       "      <td>face</td>\n",
       "      <td>powder</td>\n",
       "      <td>2859.50</td>\n",
       "      <td>KVD Beauty</td>\n",
       "      <td>powder</td>\n",
       "      <td>combination,dry,oily,normal</td>\n",
       "      <td>20.1</td>\n",
       "      <td>4.5</td>\n",
       "      <td>53</td>\n",
       "    </tr>\n",
       "    <tr>\n",
       "      <th>9835</th>\n",
       "      <td>Pro Setting Powder</td>\n",
       "      <td>USA</td>\n",
       "      <td>face</td>\n",
       "      <td>powder</td>\n",
       "      <td>489.38</td>\n",
       "      <td>L.A. Girl</td>\n",
       "      <td>powder</td>\n",
       "      <td>combination,dry,oily,normal</td>\n",
       "      <td>5.1</td>\n",
       "      <td>2.8</td>\n",
       "      <td>229</td>\n",
       "    </tr>\n",
       "    <tr>\n",
       "      <th>9836</th>\n",
       "      <td>Just Blushing Powder</td>\n",
       "      <td>USA</td>\n",
       "      <td>face</td>\n",
       "      <td>blush</td>\n",
       "      <td>489.38</td>\n",
       "      <td>L.A. Girl</td>\n",
       "      <td>powder</td>\n",
       "      <td>combination,dry,oily,normal</td>\n",
       "      <td>7.5</td>\n",
       "      <td>4.6</td>\n",
       "      <td>134</td>\n",
       "    </tr>\n",
       "    <tr>\n",
       "      <th>9837</th>\n",
       "      <td>Pro Face Matte Pressed Powder</td>\n",
       "      <td>USA</td>\n",
       "      <td>face</td>\n",
       "      <td>powder</td>\n",
       "      <td>571.08</td>\n",
       "      <td>L.A. Girl</td>\n",
       "      <td>powder</td>\n",
       "      <td>combination,dry,oily,normal</td>\n",
       "      <td>7.5</td>\n",
       "      <td>4.1</td>\n",
       "      <td>108</td>\n",
       "    </tr>\n",
       "  </tbody>\n",
       "</table>\n",
       "<p>9838 rows × 11 columns</p>\n",
       "</div>"
      ],
      "text/plain": [
       "                                           product_name country category  \\\n",
       "0     Fogg Paradise, No Gas Perfume Body Spray for W...   India     body   \n",
       "1          KamaSutra KS Woman Desire Perfume Spray 150    India     body   \n",
       "2     La French Niche Edition Luxury Perfume Gift Se...   India     body   \n",
       "3     La French Euphoria Perfume for Men and Women |...   India     body   \n",
       "4     Park Avenue Neo Perfume For Men Fresh Long Las...   India     body   \n",
       "...                                                 ...     ...      ...   \n",
       "9833                           Lock-It Finishing Powder     USA     face   \n",
       "9834                             Lock-It Setting Powder     USA     face   \n",
       "9835                                 Pro Setting Powder     USA     face   \n",
       "9836                               Just Blushing Powder     USA     face   \n",
       "9837                      Pro Face Matte Pressed Powder     USA     face   \n",
       "\n",
       "     subcategory    price        brand     form                         type  \\\n",
       "0        perfume   101.00         FOGG  aerosol                          NaN   \n",
       "1        perfume   114.00     KS WOMAN  aerosol                          NaN   \n",
       "2        perfume   475.00   LA' French  aerosol                          NaN   \n",
       "3        perfume   540.00   LA' French  aerosol                          NaN   \n",
       "4        perfume   212.00  Park Avenue  aerosol                          NaN   \n",
       "...          ...      ...          ...      ...                          ...   \n",
       "9833      powder  2859.50   KVD Beauty   powder              dry,oily,normal   \n",
       "9834      powder  2859.50   KVD Beauty   powder  combination,dry,oily,normal   \n",
       "9835      powder   489.38    L.A. Girl   powder  combination,dry,oily,normal   \n",
       "9836       blush   489.38    L.A. Girl   powder  combination,dry,oily,normal   \n",
       "9837      powder   571.08    L.A. Girl   powder  combination,dry,oily,normal   \n",
       "\n",
       "      size rating noofratings  \n",
       "0       65    4.3         180  \n",
       "1      150    4.2         163  \n",
       "2       80    4.2         358  \n",
       "3      100    4.2         524  \n",
       "4      220    4.1          41  \n",
       "...    ...    ...         ...  \n",
       "9833   8.4      4          29  \n",
       "9834  20.1    4.5          53  \n",
       "9835   5.1    2.8         229  \n",
       "9836   7.5    4.6         134  \n",
       "9837   7.5    4.1         108  \n",
       "\n",
       "[9838 rows x 11 columns]"
      ]
     },
     "execution_count": 2,
     "metadata": {},
     "output_type": "execute_result"
    }
   ],
   "source": [
    "data= pd.read_csv(\"C:\\\\Users\\\\User\\\\OneDrive\\\\Desktop\\\\THE DATA\\\\Project1\\\\E-commerce  cosmetic dataset.csv\")\n",
    "data"
   ]
  },
  {
   "cell_type": "code",
   "execution_count": 3,
   "id": "a8d606e9",
   "metadata": {},
   "outputs": [
    {
     "data": {
      "text/plain": [
       "(9838, 11)"
      ]
     },
     "execution_count": 3,
     "metadata": {},
     "output_type": "execute_result"
    }
   ],
   "source": [
    "data.shape"
   ]
  },
  {
   "cell_type": "code",
   "execution_count": 4,
   "id": "eb706d85",
   "metadata": {},
   "outputs": [
    {
     "data": {
      "text/plain": [
       "product_name    9838\n",
       "country         9838\n",
       "category        9838\n",
       "subcategory     9838\n",
       "price           9539\n",
       "brand           9838\n",
       "form            9838\n",
       "type            7807\n",
       "size            7288\n",
       "rating          8040\n",
       "noofratings     9686\n",
       "dtype: int64"
      ]
     },
     "execution_count": 4,
     "metadata": {},
     "output_type": "execute_result"
    }
   ],
   "source": [
    "data.count()"
   ]
  },
  {
   "cell_type": "code",
   "execution_count": 5,
   "id": "c7cd38ab",
   "metadata": {},
   "outputs": [],
   "source": [
    "del(data['size'])"
   ]
  },
  {
   "cell_type": "code",
   "execution_count": 6,
   "id": "09263a23",
   "metadata": {},
   "outputs": [],
   "source": [
    "del(data['noofratings'])"
   ]
  },
  {
   "cell_type": "code",
   "execution_count": 7,
   "id": "f4fb5b1e",
   "metadata": {},
   "outputs": [
    {
     "data": {
      "text/plain": [
       "product_name    9838\n",
       "country         9838\n",
       "category        9838\n",
       "subcategory     9838\n",
       "price           9539\n",
       "brand           9838\n",
       "form            9838\n",
       "type            7807\n",
       "rating          8040\n",
       "dtype: int64"
      ]
     },
     "execution_count": 7,
     "metadata": {},
     "output_type": "execute_result"
    }
   ],
   "source": [
    "data.count()"
   ]
  },
  {
   "cell_type": "code",
   "execution_count": 8,
   "id": "dd570de5",
   "metadata": {},
   "outputs": [
    {
     "name": "stdout",
     "output_type": "stream",
     "text": [
      "<class 'pandas.core.frame.DataFrame'>\n",
      "RangeIndex: 9838 entries, 0 to 9837\n",
      "Data columns (total 9 columns):\n",
      " #   Column        Non-Null Count  Dtype  \n",
      "---  ------        --------------  -----  \n",
      " 0   product_name  9838 non-null   object \n",
      " 1   country       9838 non-null   object \n",
      " 2   category      9838 non-null   object \n",
      " 3   subcategory   9838 non-null   object \n",
      " 4   price         9539 non-null   float64\n",
      " 5   brand         9838 non-null   object \n",
      " 6   form          9838 non-null   object \n",
      " 7   type          7807 non-null   object \n",
      " 8   rating        8040 non-null   object \n",
      "dtypes: float64(1), object(8)\n",
      "memory usage: 691.9+ KB\n"
     ]
    }
   ],
   "source": [
    "data.info()"
   ]
  },
  {
   "cell_type": "code",
   "execution_count": 9,
   "id": "e264b510",
   "metadata": {},
   "outputs": [
    {
     "data": {
      "text/plain": [
       "4.3      607\n",
       "4.2      582\n",
       "4.4      551\n",
       "4.5      549\n",
       "4.1      508\n",
       "        ... \n",
       "92         1\n",
       "95         1\n",
       "122        1\n",
       "2,272      1\n",
       "48         1\n",
       "Name: rating, Length: 116, dtype: int64"
      ]
     },
     "execution_count": 9,
     "metadata": {},
     "output_type": "execute_result"
    }
   ],
   "source": [
    "data['rating'].value_counts()"
   ]
  },
  {
   "cell_type": "code",
   "execution_count": 10,
   "id": "3184f132",
   "metadata": {},
   "outputs": [
    {
     "data": {
      "text/plain": [
       "array(['4.3', '4.2', '4.1', '4.7', '4', nan, '4.5', '4.4', '3.9', '4.8',\n",
       "       '4.6', '4.9', '3.7', '3', '5', '2.9', '3.6', '2.5', '3.2', '3.3',\n",
       "       '3.8', '1', '3.4', '3.1', '134', '122', '2.4', '2.1', '427', '100',\n",
       "       '2.3', '2', '3.5', '925', '14,338', '4.07', '4.42', '4.33', '4.18',\n",
       "       '4.11', '4.34', '4.24', '4.14', '4.23', '4.08', '4.21', '4.16',\n",
       "       '4.22', '4.27', '4.13', '4.12', '4.28', '4.05', '4.01', '4.02',\n",
       "       '4.06', '1.7', '4.39', '4.32', '4.09', '4.26', '4.29', '4.87', '6',\n",
       "       '4.61', '5.11', '4.25', '4.15', '4.04', '4.31', '4.53', '4.76',\n",
       "       '4.19', '4.43', '4.17', '4.03', '4.77', '4.38', '2.7', '4.41',\n",
       "       '4.45', '4.65', '4.35', '4.47', '4.37', '2.6', '4.51', '4.46',\n",
       "       '4.44', '4.36', '2,272', '48', '95', '92', '5.32', '2.8', '4.54',\n",
       "       '309', '34', '23', '1.6', '4.85', '1.8', '2.2', '1.9', '1.5',\n",
       "       '4.49', '4.52', '4.55', '4.69', '4.78', '5.04', '5.98', '4.64',\n",
       "       '5.8', '2.8 out of 5 stars', '3.5 out of 5 stars'], dtype=object)"
      ]
     },
     "execution_count": 10,
     "metadata": {},
     "output_type": "execute_result"
    }
   ],
   "source": [
    "data['rating'].unique()"
   ]
  },
  {
   "cell_type": "code",
   "execution_count": 11,
   "id": "1ab97d73",
   "metadata": {},
   "outputs": [],
   "source": [
    "data['rating'] = data['rating'].str.replace('14,338',' ')"
   ]
  },
  {
   "cell_type": "code",
   "execution_count": 12,
   "id": "7bc79383",
   "metadata": {},
   "outputs": [],
   "source": [
    "data['rating'] = data['rating'].str.replace('2,272',' ')"
   ]
  },
  {
   "cell_type": "code",
   "execution_count": 13,
   "id": "5ae4576a",
   "metadata": {},
   "outputs": [
    {
     "data": {
      "text/plain": [
       "array(['4.3', '4.2', '4.1', '4.7', '4', nan, '4.5', '4.4', '3.9', '4.8',\n",
       "       '4.6', '4.9', '3.7', '3', '5', '2.9', '3.6', '2.5', '3.2', '3.3',\n",
       "       '3.8', '1', '3.4', '3.1', '134', '122', '2.4', '2.1', '427', '100',\n",
       "       '2.3', '2', '3.5', '925', ' ', '4.07', '4.42', '4.33', '4.18',\n",
       "       '4.11', '4.34', '4.24', '4.14', '4.23', '4.08', '4.21', '4.16',\n",
       "       '4.22', '4.27', '4.13', '4.12', '4.28', '4.05', '4.01', '4.02',\n",
       "       '4.06', '1.7', '4.39', '4.32', '4.09', '4.26', '4.29', '4.87', '6',\n",
       "       '4.61', '5.11', '4.25', '4.15', '4.04', '4.31', '4.53', '4.76',\n",
       "       '4.19', '4.43', '4.17', '4.03', '4.77', '4.38', '2.7', '4.41',\n",
       "       '4.45', '4.65', '4.35', '4.47', '4.37', '2.6', '4.51', '4.46',\n",
       "       '4.44', '4.36', '48', '95', '92', '5.32', '2.8', '4.54', '309',\n",
       "       '34', '23', '1.6', '4.85', '1.8', '2.2', '1.9', '1.5', '4.49',\n",
       "       '4.52', '4.55', '4.69', '4.78', '5.04', '5.98', '4.64', '5.8',\n",
       "       '2.8 out of 5 stars', '3.5 out of 5 stars'], dtype=object)"
      ]
     },
     "execution_count": 13,
     "metadata": {},
     "output_type": "execute_result"
    }
   ],
   "source": [
    "data['rating'].unique()"
   ]
  },
  {
   "cell_type": "code",
   "execution_count": 14,
   "id": "bfd6860a",
   "metadata": {},
   "outputs": [],
   "source": [
    "data['rating'] = data['rating'].str.replace('134','1.34')"
   ]
  },
  {
   "cell_type": "code",
   "execution_count": 15,
   "id": "3375ac3a",
   "metadata": {},
   "outputs": [],
   "source": [
    "data['rating'] = data['rating'].str.replace('122','1.22')"
   ]
  },
  {
   "cell_type": "code",
   "execution_count": 16,
   "id": "dbf38fac",
   "metadata": {},
   "outputs": [],
   "source": [
    "data['rating'] = data['rating'].str.replace('427','4.27')"
   ]
  },
  {
   "cell_type": "code",
   "execution_count": 17,
   "id": "df1ce4fe",
   "metadata": {},
   "outputs": [],
   "source": [
    "data['rating'] = data['rating'].str.replace('100','1.00')"
   ]
  },
  {
   "cell_type": "code",
   "execution_count": 18,
   "id": "4a6b457c",
   "metadata": {},
   "outputs": [],
   "source": [
    "data['rating'] = data['rating'].str.replace('122','1.22')"
   ]
  },
  {
   "cell_type": "code",
   "execution_count": 19,
   "id": "7320dc49",
   "metadata": {},
   "outputs": [],
   "source": [
    "data['rating'] = data['rating'].str.replace('5.04','5.00',regex= True)"
   ]
  },
  {
   "cell_type": "code",
   "execution_count": 20,
   "id": "ca4f6318",
   "metadata": {},
   "outputs": [],
   "source": [
    "data['rating'] = data['rating'].str.replace('5.98','5.00',regex=True)"
   ]
  },
  {
   "cell_type": "code",
   "execution_count": 21,
   "id": "e03d709a",
   "metadata": {},
   "outputs": [],
   "source": [
    "data['rating'] = data['rating'].str.replace('309','3.09')"
   ]
  },
  {
   "cell_type": "code",
   "execution_count": 22,
   "id": "fbed97be",
   "metadata": {},
   "outputs": [],
   "source": [
    "data['rating'] = data['rating'].str.replace('5.8','5.0',regex= True)"
   ]
  },
  {
   "cell_type": "code",
   "execution_count": 23,
   "id": "62427648",
   "metadata": {},
   "outputs": [],
   "source": [
    "data['rating'] = data['rating'].str.replace('5.11','5.0',regex= True)"
   ]
  },
  {
   "cell_type": "code",
   "execution_count": 24,
   "id": "492c0780",
   "metadata": {},
   "outputs": [],
   "source": [
    "data['rating'] = data['rating'].str.replace('34','3.4')"
   ]
  },
  {
   "cell_type": "code",
   "execution_count": 25,
   "id": "3001778d",
   "metadata": {},
   "outputs": [],
   "source": [
    "data['rating'] = data['rating'].str.replace('23','2.3')"
   ]
  },
  {
   "cell_type": "code",
   "execution_count": 26,
   "id": "c3a3fa77",
   "metadata": {},
   "outputs": [],
   "source": [
    "data['rating'] = data['rating'].str.replace('92',' ')"
   ]
  },
  {
   "cell_type": "code",
   "execution_count": 27,
   "id": "e50fa241",
   "metadata": {},
   "outputs": [],
   "source": [
    "data['rating'] = data['rating'].str.replace('95',' ')"
   ]
  },
  {
   "cell_type": "code",
   "execution_count": 28,
   "id": "228eb338",
   "metadata": {},
   "outputs": [],
   "source": [
    "data['rating'] = data['rating'].str.replace('48','4.8 ',regex=True)"
   ]
  },
  {
   "cell_type": "code",
   "execution_count": 29,
   "id": "ffde355d",
   "metadata": {},
   "outputs": [],
   "source": [
    "data['rating'] = data['rating'].str.replace('1.3.4','1.34', regex=True)"
   ]
  },
  {
   "cell_type": "code",
   "execution_count": 30,
   "id": "2768259e",
   "metadata": {},
   "outputs": [],
   "source": [
    "data['rating'] = data['rating'].str.replace('6','')"
   ]
  },
  {
   "cell_type": "code",
   "execution_count": 31,
   "id": "4fb37db3",
   "metadata": {},
   "outputs": [],
   "source": [
    "data['rating'] = data['rating'].str.replace('5.32','5.0 ',regex=True)"
   ]
  },
  {
   "cell_type": "code",
   "execution_count": 32,
   "id": "fa623820",
   "metadata": {},
   "outputs": [],
   "source": [
    "data['rating'] = data['rating'].str.replace(' ','')"
   ]
  },
  {
   "cell_type": "code",
   "execution_count": 33,
   "id": "26c30a33",
   "metadata": {},
   "outputs": [],
   "source": [
    "data['rating'] = data['rating'].str.replace('4.2.3','4.23',regex=True)"
   ]
  },
  {
   "cell_type": "code",
   "execution_count": 34,
   "id": "8ce98910",
   "metadata": {},
   "outputs": [],
   "source": [
    "data['rating'] = data['rating'].str.replace('3.5outof5stars','3.5',regex=True)"
   ]
  },
  {
   "cell_type": "code",
   "execution_count": 35,
   "id": "a44294ac",
   "metadata": {},
   "outputs": [],
   "source": [
    "data['rating'] = data['rating'].str.replace('2.8outof5stars','2.8',regex=True)"
   ]
  },
  {
   "cell_type": "code",
   "execution_count": 36,
   "id": "a585279e",
   "metadata": {},
   "outputs": [
    {
     "data": {
      "text/plain": [
       "array(['4.3', '4.2', '4.1', '4.7', '4', nan, '4.5', '4.4', '3.9', '4.8',\n",
       "       '4.', '4.9', '3.7', '3', '5', '2.9', '3.', '2.5', '3.2', '3.3',\n",
       "       '3.8', '1', '3.4', '3.1', '1.34', '1.22', '2.4', '2.1', '4.27',\n",
       "       '1.00', '2.3', '2', '3.5', '', '4.07', '4.42', '4.33', '4.18',\n",
       "       '4.11', '4.3.4', '4.24', '4.14', '4.23', '4.08', '4.21', '4.22',\n",
       "       '4.13', '4.12', '4.28', '4.05', '4.01', '4.02', '4.0', '1.7',\n",
       "       '4.39', '4.32', '4.09', '4.29', '4.87', '5.0', '4.25', '4.15',\n",
       "       '4.04', '4.31', '4.53', '4.19', '4.43', '4.17', '4.03', '4.77',\n",
       "       '4.38', '2.7', '4.41', '4.45', '4.35', '4.47', '4.37', '2.',\n",
       "       '4.51', '4.44', '2.8', '4.54', '3.09', '1.', '4.85', '1.8', '2.2',\n",
       "       '1.9', '1.5', '4.49', '4.52', '4.55', '4.78', '5.00'], dtype=object)"
      ]
     },
     "execution_count": 36,
     "metadata": {},
     "output_type": "execute_result"
    }
   ],
   "source": [
    "data['rating'].unique()"
   ]
  },
  {
   "cell_type": "code",
   "execution_count": 37,
   "id": "03750dcf",
   "metadata": {},
   "outputs": [],
   "source": [
    "data['rating'] = data['rating'].str.replace('4.3.4','4.34',regex=True)"
   ]
  },
  {
   "cell_type": "code",
   "execution_count": 38,
   "id": "9081489e",
   "metadata": {},
   "outputs": [],
   "source": [
    "data = data.drop(data[data.rating==''].index)   #records deletion with condition"
   ]
  },
  {
   "cell_type": "code",
   "execution_count": 39,
   "id": "c8bf8ccc",
   "metadata": {},
   "outputs": [
    {
     "data": {
      "text/html": [
       "<div>\n",
       "<style scoped>\n",
       "    .dataframe tbody tr th:only-of-type {\n",
       "        vertical-align: middle;\n",
       "    }\n",
       "\n",
       "    .dataframe tbody tr th {\n",
       "        vertical-align: top;\n",
       "    }\n",
       "\n",
       "    .dataframe thead th {\n",
       "        text-align: right;\n",
       "    }\n",
       "</style>\n",
       "<table border=\"1\" class=\"dataframe\">\n",
       "  <thead>\n",
       "    <tr style=\"text-align: right;\">\n",
       "      <th></th>\n",
       "      <th>product_name</th>\n",
       "      <th>country</th>\n",
       "      <th>category</th>\n",
       "      <th>subcategory</th>\n",
       "      <th>price</th>\n",
       "      <th>brand</th>\n",
       "      <th>form</th>\n",
       "      <th>type</th>\n",
       "      <th>rating</th>\n",
       "    </tr>\n",
       "  </thead>\n",
       "  <tbody>\n",
       "    <tr>\n",
       "      <th>7</th>\n",
       "      <td>Superfood Shower Gel Kale &amp; Turmeric</td>\n",
       "      <td>USA</td>\n",
       "      <td>body</td>\n",
       "      <td>bodywash</td>\n",
       "      <td>1960.8</td>\n",
       "      <td>Ahava</td>\n",
       "      <td>cream</td>\n",
       "      <td>all</td>\n",
       "      <td>NaN</td>\n",
       "    </tr>\n",
       "    <tr>\n",
       "      <th>46</th>\n",
       "      <td>Glow Figure Tropical Mango Smoothie Shower Gel</td>\n",
       "      <td>USA</td>\n",
       "      <td>body</td>\n",
       "      <td>bodywash</td>\n",
       "      <td>1634.0</td>\n",
       "      <td>Coco &amp; Eve</td>\n",
       "      <td>cream</td>\n",
       "      <td>all</td>\n",
       "      <td>NaN</td>\n",
       "    </tr>\n",
       "    <tr>\n",
       "      <th>47</th>\n",
       "      <td>Glow Figure Dragon Fruit &amp; Lychee Smoothie Sho...</td>\n",
       "      <td>USA</td>\n",
       "      <td>body</td>\n",
       "      <td>bodywash</td>\n",
       "      <td>1634.0</td>\n",
       "      <td>Coco &amp; Eve</td>\n",
       "      <td>cream</td>\n",
       "      <td>all</td>\n",
       "      <td>NaN</td>\n",
       "    </tr>\n",
       "    <tr>\n",
       "      <th>53</th>\n",
       "      <td>Iron Man Bath Bomb</td>\n",
       "      <td>USA</td>\n",
       "      <td>body</td>\n",
       "      <td>bodywash</td>\n",
       "      <td>653.6</td>\n",
       "      <td>Da Bomb</td>\n",
       "      <td>cream</td>\n",
       "      <td>all</td>\n",
       "      <td>NaN</td>\n",
       "    </tr>\n",
       "    <tr>\n",
       "      <th>56</th>\n",
       "      <td>Bikini Bath Bomb</td>\n",
       "      <td>USA</td>\n",
       "      <td>body</td>\n",
       "      <td>bodywash</td>\n",
       "      <td>653.6</td>\n",
       "      <td>Da Bomb</td>\n",
       "      <td>cream</td>\n",
       "      <td>all</td>\n",
       "      <td>NaN</td>\n",
       "    </tr>\n",
       "    <tr>\n",
       "      <th>...</th>\n",
       "      <td>...</td>\n",
       "      <td>...</td>\n",
       "      <td>...</td>\n",
       "      <td>...</td>\n",
       "      <td>...</td>\n",
       "      <td>...</td>\n",
       "      <td>...</td>\n",
       "      <td>...</td>\n",
       "      <td>...</td>\n",
       "    </tr>\n",
       "    <tr>\n",
       "      <th>8728</th>\n",
       "      <td>Ice cube velvet Lip Glaze mushed Lip Gloss Wat...</td>\n",
       "      <td>India</td>\n",
       "      <td>lips</td>\n",
       "      <td>lipgloss</td>\n",
       "      <td>499.0</td>\n",
       "      <td>VBA</td>\n",
       "      <td>other</td>\n",
       "      <td>all</td>\n",
       "      <td>NaN</td>\n",
       "    </tr>\n",
       "    <tr>\n",
       "      <th>9545</th>\n",
       "      <td>Adi Express Stop Hair Growth Serum Moisturizin...</td>\n",
       "      <td>India</td>\n",
       "      <td>skincare</td>\n",
       "      <td>serum</td>\n",
       "      <td>999.0</td>\n",
       "      <td>Adi Express</td>\n",
       "      <td>liquid</td>\n",
       "      <td>all</td>\n",
       "      <td>NaN</td>\n",
       "    </tr>\n",
       "    <tr>\n",
       "      <th>9546</th>\n",
       "      <td>Adi Express Permanent Hair Removal Serum Stop ...</td>\n",
       "      <td>India</td>\n",
       "      <td>skincare</td>\n",
       "      <td>serum</td>\n",
       "      <td>1499.0</td>\n",
       "      <td>Adi Express</td>\n",
       "      <td>liquid</td>\n",
       "      <td>all</td>\n",
       "      <td>NaN</td>\n",
       "    </tr>\n",
       "    <tr>\n",
       "      <th>9553</th>\n",
       "      <td>Aqualogica Clear+ Concentrate Face Serum with ...</td>\n",
       "      <td>India</td>\n",
       "      <td>skincare</td>\n",
       "      <td>serum</td>\n",
       "      <td>599.0</td>\n",
       "      <td>Aqualogica</td>\n",
       "      <td>liquid</td>\n",
       "      <td>all</td>\n",
       "      <td>NaN</td>\n",
       "    </tr>\n",
       "    <tr>\n",
       "      <th>9633</th>\n",
       "      <td>Elecsera 4 Color Blusher Kit for Face Makeup (...</td>\n",
       "      <td>India</td>\n",
       "      <td>face</td>\n",
       "      <td>blush</td>\n",
       "      <td>130.0</td>\n",
       "      <td>Elecsera</td>\n",
       "      <td>liquid</td>\n",
       "      <td>NaN</td>\n",
       "      <td>NaN</td>\n",
       "    </tr>\n",
       "  </tbody>\n",
       "</table>\n",
       "<p>1798 rows × 9 columns</p>\n",
       "</div>"
      ],
      "text/plain": [
       "                                           product_name country  category  \\\n",
       "7                  Superfood Shower Gel Kale & Turmeric     USA      body   \n",
       "46       Glow Figure Tropical Mango Smoothie Shower Gel     USA      body   \n",
       "47    Glow Figure Dragon Fruit & Lychee Smoothie Sho...     USA      body   \n",
       "53                                   Iron Man Bath Bomb     USA      body   \n",
       "56                                     Bikini Bath Bomb     USA      body   \n",
       "...                                                 ...     ...       ...   \n",
       "8728  Ice cube velvet Lip Glaze mushed Lip Gloss Wat...   India      lips   \n",
       "9545  Adi Express Stop Hair Growth Serum Moisturizin...   India  skincare   \n",
       "9546  Adi Express Permanent Hair Removal Serum Stop ...   India  skincare   \n",
       "9553  Aqualogica Clear+ Concentrate Face Serum with ...   India  skincare   \n",
       "9633  Elecsera 4 Color Blusher Kit for Face Makeup (...   India      face   \n",
       "\n",
       "     subcategory   price        brand    form type rating  \n",
       "7       bodywash  1960.8        Ahava   cream  all    NaN  \n",
       "46      bodywash  1634.0   Coco & Eve   cream  all    NaN  \n",
       "47      bodywash  1634.0   Coco & Eve   cream  all    NaN  \n",
       "53      bodywash   653.6      Da Bomb   cream  all    NaN  \n",
       "56      bodywash   653.6      Da Bomb   cream  all    NaN  \n",
       "...          ...     ...          ...     ...  ...    ...  \n",
       "8728    lipgloss   499.0          VBA   other  all    NaN  \n",
       "9545       serum   999.0  Adi Express  liquid  all    NaN  \n",
       "9546       serum  1499.0  Adi Express  liquid  all    NaN  \n",
       "9553       serum   599.0   Aqualogica  liquid  all    NaN  \n",
       "9633       blush   130.0     Elecsera  liquid  NaN    NaN  \n",
       "\n",
       "[1798 rows x 9 columns]"
      ]
     },
     "execution_count": 39,
     "metadata": {},
     "output_type": "execute_result"
    }
   ],
   "source": [
    "data[data.rating.isna()]"
   ]
  },
  {
   "cell_type": "code",
   "execution_count": 40,
   "id": "fd7d80e8",
   "metadata": {},
   "outputs": [],
   "source": [
    "data['rating']= data['rating'].astype(float)"
   ]
  },
  {
   "cell_type": "code",
   "execution_count": 41,
   "id": "d8ea8e01",
   "metadata": {},
   "outputs": [
    {
     "data": {
      "text/plain": [
       "product_name     object\n",
       "country          object\n",
       "category         object\n",
       "subcategory      object\n",
       "price           float64\n",
       "brand            object\n",
       "form             object\n",
       "type             object\n",
       "rating          float64\n",
       "dtype: object"
      ]
     },
     "execution_count": 41,
     "metadata": {},
     "output_type": "execute_result"
    }
   ],
   "source": [
    "data.dtypes"
   ]
  },
  {
   "cell_type": "code",
   "execution_count": 42,
   "id": "d82b669d",
   "metadata": {},
   "outputs": [
    {
     "data": {
      "text/plain": [
       "4.13"
      ]
     },
     "execution_count": 42,
     "metadata": {},
     "output_type": "execute_result"
    }
   ],
   "source": [
    "x = data['rating'].mean()\n",
    "x = x.round(2)\n",
    "x"
   ]
  },
  {
   "cell_type": "code",
   "execution_count": 43,
   "id": "93a13b87",
   "metadata": {},
   "outputs": [],
   "source": [
    "data['rating'].fillna(x,inplace=True)"
   ]
  },
  {
   "cell_type": "code",
   "execution_count": 44,
   "id": "bd2c3382",
   "metadata": {},
   "outputs": [
    {
     "data": {
      "text/plain": [
       "product_name    9831\n",
       "country         9831\n",
       "category        9831\n",
       "subcategory     9831\n",
       "price           9532\n",
       "brand           9831\n",
       "form            9831\n",
       "type            7807\n",
       "rating          9831\n",
       "dtype: int64"
      ]
     },
     "execution_count": 44,
     "metadata": {},
     "output_type": "execute_result"
    }
   ],
   "source": [
    "data.count()"
   ]
  },
  {
   "cell_type": "code",
   "execution_count": 45,
   "id": "4623d2a0",
   "metadata": {},
   "outputs": [],
   "source": [
    "data['price']= data['price'].round(0)"
   ]
  },
  {
   "cell_type": "code",
   "execution_count": 46,
   "id": "7312f225",
   "metadata": {},
   "outputs": [
    {
     "data": {
      "text/plain": [
       "2345.0"
      ]
     },
     "execution_count": 46,
     "metadata": {},
     "output_type": "execute_result"
    }
   ],
   "source": [
    "y = data['price'].mean()\n",
    "y = y.round(0)\n",
    "y"
   ]
  },
  {
   "cell_type": "code",
   "execution_count": 47,
   "id": "9bf13728",
   "metadata": {},
   "outputs": [],
   "source": [
    "data['price'].fillna(y,inplace=True)"
   ]
  },
  {
   "cell_type": "code",
   "execution_count": 48,
   "id": "a7f30f24",
   "metadata": {},
   "outputs": [],
   "source": [
    "data['price'] = data['price'].astype(int)"
   ]
  },
  {
   "cell_type": "code",
   "execution_count": 49,
   "id": "4b348a33",
   "metadata": {},
   "outputs": [
    {
     "data": {
      "text/plain": [
       "product_name    9831\n",
       "country         9831\n",
       "category        9831\n",
       "subcategory     9831\n",
       "price           9831\n",
       "brand           9831\n",
       "form            9831\n",
       "type            7807\n",
       "rating          9831\n",
       "dtype: int64"
      ]
     },
     "execution_count": 49,
     "metadata": {},
     "output_type": "execute_result"
    }
   ],
   "source": [
    "data.count()"
   ]
  },
  {
   "cell_type": "code",
   "execution_count": 50,
   "id": "3923b33f",
   "metadata": {},
   "outputs": [
    {
     "data": {
      "text/plain": [
       "count     7807\n",
       "unique     105\n",
       "top        all\n",
       "freq      4793\n",
       "Name: type, dtype: object"
      ]
     },
     "execution_count": 50,
     "metadata": {},
     "output_type": "execute_result"
    }
   ],
   "source": [
    "data['type'].describe(include='object')"
   ]
  },
  {
   "cell_type": "code",
   "execution_count": 51,
   "id": "74415e4e",
   "metadata": {},
   "outputs": [
    {
     "data": {
      "text/plain": [
       "all                                 4793\n",
       "matte                                572\n",
       "shimmer                              447\n",
       "wavy,straight                        203\n",
       "combination, dry, normal, oily       189\n",
       "                                    ... \n",
       "combination, normal                    1\n",
       "dry,combinational,oily                 1\n",
       "combinational,dry,sensitive,oily       1\n",
       "combinational,sensitive                1\n",
       "combination,oily                       1\n",
       "Name: type, Length: 105, dtype: int64"
      ]
     },
     "execution_count": 51,
     "metadata": {},
     "output_type": "execute_result"
    }
   ],
   "source": [
    "data['type'].value_counts()"
   ]
  },
  {
   "cell_type": "code",
   "execution_count": 52,
   "id": "3c634237",
   "metadata": {},
   "outputs": [],
   "source": [
    "data.dropna(subset=['type'], inplace=True)"
   ]
  },
  {
   "cell_type": "code",
   "execution_count": 53,
   "id": "d8dab558",
   "metadata": {},
   "outputs": [
    {
     "data": {
      "text/plain": [
       "product_name    7807\n",
       "country         7807\n",
       "category        7807\n",
       "subcategory     7807\n",
       "price           7807\n",
       "brand           7807\n",
       "form            7807\n",
       "type            7807\n",
       "rating          7807\n",
       "dtype: int64"
      ]
     },
     "execution_count": 53,
     "metadata": {},
     "output_type": "execute_result"
    }
   ],
   "source": [
    "data.count()"
   ]
  },
  {
   "cell_type": "code",
   "execution_count": 54,
   "id": "ad45606c",
   "metadata": {},
   "outputs": [
    {
     "data": {
      "text/html": [
       "<div>\n",
       "<style scoped>\n",
       "    .dataframe tbody tr th:only-of-type {\n",
       "        vertical-align: middle;\n",
       "    }\n",
       "\n",
       "    .dataframe tbody tr th {\n",
       "        vertical-align: top;\n",
       "    }\n",
       "\n",
       "    .dataframe thead th {\n",
       "        text-align: right;\n",
       "    }\n",
       "</style>\n",
       "<table border=\"1\" class=\"dataframe\">\n",
       "  <thead>\n",
       "    <tr style=\"text-align: right;\">\n",
       "      <th></th>\n",
       "      <th>product_name</th>\n",
       "      <th>country</th>\n",
       "      <th>category</th>\n",
       "      <th>subcategory</th>\n",
       "      <th>price</th>\n",
       "      <th>brand</th>\n",
       "      <th>form</th>\n",
       "      <th>type</th>\n",
       "      <th>rating</th>\n",
       "    </tr>\n",
       "  </thead>\n",
       "  <tbody>\n",
       "    <tr>\n",
       "      <th>5</th>\n",
       "      <td>Deadsea Mud Purifying Mud Soap</td>\n",
       "      <td>USA</td>\n",
       "      <td>body</td>\n",
       "      <td>bodywash</td>\n",
       "      <td>980</td>\n",
       "      <td>Ahava</td>\n",
       "      <td>cream</td>\n",
       "      <td>all</td>\n",
       "      <td>4.70</td>\n",
       "    </tr>\n",
       "    <tr>\n",
       "      <th>6</th>\n",
       "      <td>Natural Dead Sea Bath Salts</td>\n",
       "      <td>USA</td>\n",
       "      <td>body</td>\n",
       "      <td>bodywash</td>\n",
       "      <td>980</td>\n",
       "      <td>Ahava</td>\n",
       "      <td>cream</td>\n",
       "      <td>all</td>\n",
       "      <td>4.00</td>\n",
       "    </tr>\n",
       "    <tr>\n",
       "      <th>7</th>\n",
       "      <td>Superfood Shower Gel Kale &amp; Turmeric</td>\n",
       "      <td>USA</td>\n",
       "      <td>body</td>\n",
       "      <td>bodywash</td>\n",
       "      <td>1961</td>\n",
       "      <td>Ahava</td>\n",
       "      <td>cream</td>\n",
       "      <td>all</td>\n",
       "      <td>4.13</td>\n",
       "    </tr>\n",
       "    <tr>\n",
       "      <th>8</th>\n",
       "      <td>Sea-Kissed Mineral Shower Gel</td>\n",
       "      <td>USA</td>\n",
       "      <td>body</td>\n",
       "      <td>bodywash</td>\n",
       "      <td>1961</td>\n",
       "      <td>Ahava</td>\n",
       "      <td>cream</td>\n",
       "      <td>all</td>\n",
       "      <td>4.70</td>\n",
       "    </tr>\n",
       "    <tr>\n",
       "      <th>9</th>\n",
       "      <td>Mineral Botanic Velvet Cream Wash</td>\n",
       "      <td>USA</td>\n",
       "      <td>body</td>\n",
       "      <td>bodywash</td>\n",
       "      <td>1961</td>\n",
       "      <td>Ahava</td>\n",
       "      <td>cream</td>\n",
       "      <td>all</td>\n",
       "      <td>4.70</td>\n",
       "    </tr>\n",
       "  </tbody>\n",
       "</table>\n",
       "</div>"
      ],
      "text/plain": [
       "                           product_name country category subcategory  price  \\\n",
       "5        Deadsea Mud Purifying Mud Soap     USA     body    bodywash    980   \n",
       "6           Natural Dead Sea Bath Salts     USA     body    bodywash    980   \n",
       "7  Superfood Shower Gel Kale & Turmeric     USA     body    bodywash   1961   \n",
       "8         Sea-Kissed Mineral Shower Gel     USA     body    bodywash   1961   \n",
       "9     Mineral Botanic Velvet Cream Wash     USA     body    bodywash   1961   \n",
       "\n",
       "   brand   form type  rating  \n",
       "5  Ahava  cream  all    4.70  \n",
       "6  Ahava  cream  all    4.00  \n",
       "7  Ahava  cream  all    4.13  \n",
       "8  Ahava  cream  all    4.70  \n",
       "9  Ahava  cream  all    4.70  "
      ]
     },
     "execution_count": 54,
     "metadata": {},
     "output_type": "execute_result"
    }
   ],
   "source": [
    "data.head()"
   ]
  },
  {
   "cell_type": "code",
   "execution_count": 55,
   "id": "4367b892",
   "metadata": {},
   "outputs": [
    {
     "data": {
      "text/html": [
       "<div>\n",
       "<style scoped>\n",
       "    .dataframe tbody tr th:only-of-type {\n",
       "        vertical-align: middle;\n",
       "    }\n",
       "\n",
       "    .dataframe tbody tr th {\n",
       "        vertical-align: top;\n",
       "    }\n",
       "\n",
       "    .dataframe thead th {\n",
       "        text-align: right;\n",
       "    }\n",
       "</style>\n",
       "<table border=\"1\" class=\"dataframe\">\n",
       "  <thead>\n",
       "    <tr style=\"text-align: right;\">\n",
       "      <th></th>\n",
       "      <th>product_name</th>\n",
       "      <th>country</th>\n",
       "      <th>category</th>\n",
       "      <th>subcategory</th>\n",
       "      <th>price</th>\n",
       "      <th>brand</th>\n",
       "      <th>form</th>\n",
       "      <th>type</th>\n",
       "      <th>rating</th>\n",
       "    </tr>\n",
       "  </thead>\n",
       "  <tbody>\n",
       "    <tr>\n",
       "      <th>9833</th>\n",
       "      <td>Lock-It Finishing Powder</td>\n",
       "      <td>USA</td>\n",
       "      <td>face</td>\n",
       "      <td>powder</td>\n",
       "      <td>2860</td>\n",
       "      <td>KVD Beauty</td>\n",
       "      <td>powder</td>\n",
       "      <td>dry,oily,normal</td>\n",
       "      <td>4.0</td>\n",
       "    </tr>\n",
       "    <tr>\n",
       "      <th>9834</th>\n",
       "      <td>Lock-It Setting Powder</td>\n",
       "      <td>USA</td>\n",
       "      <td>face</td>\n",
       "      <td>powder</td>\n",
       "      <td>2860</td>\n",
       "      <td>KVD Beauty</td>\n",
       "      <td>powder</td>\n",
       "      <td>combination,dry,oily,normal</td>\n",
       "      <td>4.5</td>\n",
       "    </tr>\n",
       "    <tr>\n",
       "      <th>9835</th>\n",
       "      <td>Pro Setting Powder</td>\n",
       "      <td>USA</td>\n",
       "      <td>face</td>\n",
       "      <td>powder</td>\n",
       "      <td>489</td>\n",
       "      <td>L.A. Girl</td>\n",
       "      <td>powder</td>\n",
       "      <td>combination,dry,oily,normal</td>\n",
       "      <td>2.8</td>\n",
       "    </tr>\n",
       "    <tr>\n",
       "      <th>9836</th>\n",
       "      <td>Just Blushing Powder</td>\n",
       "      <td>USA</td>\n",
       "      <td>face</td>\n",
       "      <td>blush</td>\n",
       "      <td>489</td>\n",
       "      <td>L.A. Girl</td>\n",
       "      <td>powder</td>\n",
       "      <td>combination,dry,oily,normal</td>\n",
       "      <td>4.0</td>\n",
       "    </tr>\n",
       "    <tr>\n",
       "      <th>9837</th>\n",
       "      <td>Pro Face Matte Pressed Powder</td>\n",
       "      <td>USA</td>\n",
       "      <td>face</td>\n",
       "      <td>powder</td>\n",
       "      <td>571</td>\n",
       "      <td>L.A. Girl</td>\n",
       "      <td>powder</td>\n",
       "      <td>combination,dry,oily,normal</td>\n",
       "      <td>4.1</td>\n",
       "    </tr>\n",
       "  </tbody>\n",
       "</table>\n",
       "</div>"
      ],
      "text/plain": [
       "                       product_name country category subcategory  price  \\\n",
       "9833       Lock-It Finishing Powder     USA     face      powder   2860   \n",
       "9834         Lock-It Setting Powder     USA     face      powder   2860   \n",
       "9835             Pro Setting Powder     USA     face      powder    489   \n",
       "9836           Just Blushing Powder     USA     face       blush    489   \n",
       "9837  Pro Face Matte Pressed Powder     USA     face      powder    571   \n",
       "\n",
       "           brand    form                         type  rating  \n",
       "9833  KVD Beauty  powder              dry,oily,normal     4.0  \n",
       "9834  KVD Beauty  powder  combination,dry,oily,normal     4.5  \n",
       "9835   L.A. Girl  powder  combination,dry,oily,normal     2.8  \n",
       "9836   L.A. Girl  powder  combination,dry,oily,normal     4.0  \n",
       "9837   L.A. Girl  powder  combination,dry,oily,normal     4.1  "
      ]
     },
     "execution_count": 55,
     "metadata": {},
     "output_type": "execute_result"
    }
   ],
   "source": [
    "data.tail()"
   ]
  },
  {
   "cell_type": "code",
   "execution_count": 65,
   "id": "e8f5756c",
   "metadata": {},
   "outputs": [
    {
     "name": "stdout",
     "output_type": "stream",
     "text": [
      "                                           product_name country category  \\\n",
      "14    3-in-1 Tea Tree Shampoo, Conditioner and Body ...     USA     body   \n",
      "191                 Oil-Free Sun Guard SPF 45 Sunscreen     USA     body   \n",
      "192                 Oil-Free Sun Guard SPF 45 Sunscreen     USA     body   \n",
      "237                         La Vie Est Belle Shower Gel     USA     body   \n",
      "261                                      Acne Body Wash     USA     body   \n",
      "...                                                 ...     ...      ...   \n",
      "9786                               Bio Stick Foundation     USA     face   \n",
      "9790                               Loose Setting Powder     USA     face   \n",
      "9813                               Loose Setting Powder     USA     face   \n",
      "9830                  Lock-It Powder Foundation Refills     USA     face   \n",
      "9831                  Lock-It Powder Foundation Refills     USA     face   \n",
      "\n",
      "     subcategory  price                    brand    form  \\\n",
      "14      bodywash   1552            American Crew   cream   \n",
      "191    sunscreen   1798               Jack Black   cream   \n",
      "192    sunscreen   1798               Jack Black   cream   \n",
      "237     bodywash   4248               Lancï¿½ï¿½   cream   \n",
      "261     bodywash   3922                    Murad   cream   \n",
      "...          ...    ...                      ...     ...   \n",
      "9786  foundation   2206              Well People   cream   \n",
      "9790      powder   3105  Anastasia Beverly Hills  powder   \n",
      "9813      powder   2614               Dermablend  powder   \n",
      "9830  foundation   1373               KVD Beauty  powder   \n",
      "9831  foundation   1373               KVD Beauty  powder   \n",
      "\n",
      "                             type  rating  \n",
      "14                            all     4.7  \n",
      "191                     sensitive     4.0  \n",
      "192     combinational,oily,normal     4.0  \n",
      "237                           all     4.9  \n",
      "261                           all     4.0  \n",
      "...                           ...     ...  \n",
      "9786  combination,dry,oily,normal     4.2  \n",
      "9790              dry,oily,normal     4.0  \n",
      "9813              dry,oily,normal     4.4  \n",
      "9830  combination,dry,oily,normal     3.7  \n",
      "9831  combination,dry,oily,normal     3.7  \n",
      "\n",
      "[765 rows x 9 columns]\n"
     ]
    }
   ],
   "source": [
    "value_count1 = data['product_name'].value_counts()    #get the value counts\n",
    "outliers1 = value_count1[value_count1<=1].index       #identify the outliers\n",
    "df_productname = data[~data['product_name'].isin(outliers1)]   #filterate out the outliers' rows\n",
    "print(df_productname)"
   ]
  },
  {
   "cell_type": "code",
   "execution_count": 57,
   "id": "3c01392c",
   "metadata": {},
   "outputs": [
    {
     "data": {
      "text/plain": [
       "product_name    7379\n",
       "country            2\n",
       "category           6\n",
       "subcategory       33\n",
       "price           1140\n",
       "brand           1336\n",
       "form              19\n",
       "type             105\n",
       "rating            73\n",
       "dtype: int64"
      ]
     },
     "execution_count": 57,
     "metadata": {},
     "output_type": "execute_result"
    }
   ],
   "source": [
    "data.nunique()"
   ]
  },
  {
   "cell_type": "code",
   "execution_count": 58,
   "id": "2f73de10",
   "metadata": {},
   "outputs": [
    {
     "data": {
      "text/plain": [
       "array(['body', 'eyes', 'face', 'hair', 'lips', 'skincare'], dtype=object)"
      ]
     },
     "execution_count": 58,
     "metadata": {},
     "output_type": "execute_result"
    }
   ],
   "source": [
    "data['category'].unique()"
   ]
  },
  {
   "cell_type": "code",
   "execution_count": 59,
   "id": "2805df97",
   "metadata": {},
   "outputs": [
    {
     "data": {
      "text/plain": [
       "array(['bodywash', 'sunscreen', 'moisturizer', 'perfume', 'soap',\n",
       "       'eyeliner', 'eyeshadow', 'mascara', 'eye primer', 'primer',\n",
       "       'eyebrow', 'serum', 'eyelashes', 'foundation', 'shampoo',\n",
       "       'hairmask', 'conditioner', 'oil', 'dry shampoo', 'lipliner',\n",
       "       'lipgloss', 'lipstick', 'lipbalm', 'lipstain', 'eye treatment',\n",
       "       'mask', 'cleanser', 'face wash', 'toner', 'spray', 'concealer',\n",
       "       'blush', 'powder'], dtype=object)"
      ]
     },
     "execution_count": 59,
     "metadata": {},
     "output_type": "execute_result"
    }
   ],
   "source": [
    "data['subcategory'].unique()"
   ]
  },
  {
   "cell_type": "code",
   "execution_count": 60,
   "id": "01af8954",
   "metadata": {},
   "outputs": [
    {
     "data": {
      "text/plain": [
       "array(['cream', 'liquid', 'solid', 'crayon', 'gel', 'pen', 'pencil',\n",
       "       'powder', 'stick', 'strip', 'other', 'aerosol', 'dry', 'foam',\n",
       "       'lotion', 'mask', 'paste', 'mousse', 'tube'], dtype=object)"
      ]
     },
     "execution_count": 60,
     "metadata": {},
     "output_type": "execute_result"
    }
   ],
   "source": [
    "data['form'].unique()"
   ]
  },
  {
   "cell_type": "code",
   "execution_count": 61,
   "id": "e42e4efe",
   "metadata": {},
   "outputs": [
    {
     "data": {
      "text/plain": [
       "array(['USA', 'India'], dtype=object)"
      ]
     },
     "execution_count": 61,
     "metadata": {},
     "output_type": "execute_result"
    }
   ],
   "source": [
    "data['country'].unique()"
   ]
  },
  {
   "cell_type": "code",
   "execution_count": 62,
   "id": "6f50058c",
   "metadata": {},
   "outputs": [
    {
     "data": {
      "text/html": [
       "<div>\n",
       "<style scoped>\n",
       "    .dataframe tbody tr th:only-of-type {\n",
       "        vertical-align: middle;\n",
       "    }\n",
       "\n",
       "    .dataframe tbody tr th {\n",
       "        vertical-align: top;\n",
       "    }\n",
       "\n",
       "    .dataframe thead th {\n",
       "        text-align: right;\n",
       "    }\n",
       "</style>\n",
       "<table border=\"1\" class=\"dataframe\">\n",
       "  <thead>\n",
       "    <tr style=\"text-align: right;\">\n",
       "      <th></th>\n",
       "      <th>product_name</th>\n",
       "      <th>country</th>\n",
       "      <th>category</th>\n",
       "      <th>subcategory</th>\n",
       "      <th>price</th>\n",
       "      <th>brand</th>\n",
       "      <th>form</th>\n",
       "      <th>type</th>\n",
       "      <th>rating</th>\n",
       "    </tr>\n",
       "  </thead>\n",
       "  <tbody>\n",
       "    <tr>\n",
       "      <th>5</th>\n",
       "      <td>Deadsea Mud Purifying Mud Soap</td>\n",
       "      <td>USA</td>\n",
       "      <td>body</td>\n",
       "      <td>bodywash</td>\n",
       "      <td>980</td>\n",
       "      <td>Ahava</td>\n",
       "      <td>cream</td>\n",
       "      <td>all</td>\n",
       "      <td>4.70</td>\n",
       "    </tr>\n",
       "    <tr>\n",
       "      <th>6</th>\n",
       "      <td>Natural Dead Sea Bath Salts</td>\n",
       "      <td>USA</td>\n",
       "      <td>body</td>\n",
       "      <td>bodywash</td>\n",
       "      <td>980</td>\n",
       "      <td>Ahava</td>\n",
       "      <td>cream</td>\n",
       "      <td>all</td>\n",
       "      <td>4.00</td>\n",
       "    </tr>\n",
       "    <tr>\n",
       "      <th>7</th>\n",
       "      <td>Superfood Shower Gel Kale &amp; Turmeric</td>\n",
       "      <td>USA</td>\n",
       "      <td>body</td>\n",
       "      <td>bodywash</td>\n",
       "      <td>1961</td>\n",
       "      <td>Ahava</td>\n",
       "      <td>cream</td>\n",
       "      <td>all</td>\n",
       "      <td>4.13</td>\n",
       "    </tr>\n",
       "    <tr>\n",
       "      <th>8</th>\n",
       "      <td>Sea-Kissed Mineral Shower Gel</td>\n",
       "      <td>USA</td>\n",
       "      <td>body</td>\n",
       "      <td>bodywash</td>\n",
       "      <td>1961</td>\n",
       "      <td>Ahava</td>\n",
       "      <td>cream</td>\n",
       "      <td>all</td>\n",
       "      <td>4.70</td>\n",
       "    </tr>\n",
       "    <tr>\n",
       "      <th>9</th>\n",
       "      <td>Mineral Botanic Velvet Cream Wash</td>\n",
       "      <td>USA</td>\n",
       "      <td>body</td>\n",
       "      <td>bodywash</td>\n",
       "      <td>1961</td>\n",
       "      <td>Ahava</td>\n",
       "      <td>cream</td>\n",
       "      <td>all</td>\n",
       "      <td>4.70</td>\n",
       "    </tr>\n",
       "    <tr>\n",
       "      <th>...</th>\n",
       "      <td>...</td>\n",
       "      <td>...</td>\n",
       "      <td>...</td>\n",
       "      <td>...</td>\n",
       "      <td>...</td>\n",
       "      <td>...</td>\n",
       "      <td>...</td>\n",
       "      <td>...</td>\n",
       "      <td>...</td>\n",
       "    </tr>\n",
       "    <tr>\n",
       "      <th>9833</th>\n",
       "      <td>Lock-It Finishing Powder</td>\n",
       "      <td>USA</td>\n",
       "      <td>face</td>\n",
       "      <td>powder</td>\n",
       "      <td>2860</td>\n",
       "      <td>KVD Beauty</td>\n",
       "      <td>powder</td>\n",
       "      <td>dry,oily,normal</td>\n",
       "      <td>4.00</td>\n",
       "    </tr>\n",
       "    <tr>\n",
       "      <th>9834</th>\n",
       "      <td>Lock-It Setting Powder</td>\n",
       "      <td>USA</td>\n",
       "      <td>face</td>\n",
       "      <td>powder</td>\n",
       "      <td>2860</td>\n",
       "      <td>KVD Beauty</td>\n",
       "      <td>powder</td>\n",
       "      <td>combination,dry,oily,normal</td>\n",
       "      <td>4.50</td>\n",
       "    </tr>\n",
       "    <tr>\n",
       "      <th>9835</th>\n",
       "      <td>Pro Setting Powder</td>\n",
       "      <td>USA</td>\n",
       "      <td>face</td>\n",
       "      <td>powder</td>\n",
       "      <td>489</td>\n",
       "      <td>L.A. Girl</td>\n",
       "      <td>powder</td>\n",
       "      <td>combination,dry,oily,normal</td>\n",
       "      <td>2.80</td>\n",
       "    </tr>\n",
       "    <tr>\n",
       "      <th>9836</th>\n",
       "      <td>Just Blushing Powder</td>\n",
       "      <td>USA</td>\n",
       "      <td>face</td>\n",
       "      <td>blush</td>\n",
       "      <td>489</td>\n",
       "      <td>L.A. Girl</td>\n",
       "      <td>powder</td>\n",
       "      <td>combination,dry,oily,normal</td>\n",
       "      <td>4.00</td>\n",
       "    </tr>\n",
       "    <tr>\n",
       "      <th>9837</th>\n",
       "      <td>Pro Face Matte Pressed Powder</td>\n",
       "      <td>USA</td>\n",
       "      <td>face</td>\n",
       "      <td>powder</td>\n",
       "      <td>571</td>\n",
       "      <td>L.A. Girl</td>\n",
       "      <td>powder</td>\n",
       "      <td>combination,dry,oily,normal</td>\n",
       "      <td>4.10</td>\n",
       "    </tr>\n",
       "  </tbody>\n",
       "</table>\n",
       "<p>7807 rows × 9 columns</p>\n",
       "</div>"
      ],
      "text/plain": [
       "                              product_name country category subcategory  \\\n",
       "5           Deadsea Mud Purifying Mud Soap     USA     body    bodywash   \n",
       "6              Natural Dead Sea Bath Salts     USA     body    bodywash   \n",
       "7     Superfood Shower Gel Kale & Turmeric     USA     body    bodywash   \n",
       "8            Sea-Kissed Mineral Shower Gel     USA     body    bodywash   \n",
       "9        Mineral Botanic Velvet Cream Wash     USA     body    bodywash   \n",
       "...                                    ...     ...      ...         ...   \n",
       "9833              Lock-It Finishing Powder     USA     face      powder   \n",
       "9834                Lock-It Setting Powder     USA     face      powder   \n",
       "9835                    Pro Setting Powder     USA     face      powder   \n",
       "9836                  Just Blushing Powder     USA     face       blush   \n",
       "9837         Pro Face Matte Pressed Powder     USA     face      powder   \n",
       "\n",
       "      price       brand    form                         type  rating  \n",
       "5       980       Ahava   cream                          all    4.70  \n",
       "6       980       Ahava   cream                          all    4.00  \n",
       "7      1961       Ahava   cream                          all    4.13  \n",
       "8      1961       Ahava   cream                          all    4.70  \n",
       "9      1961       Ahava   cream                          all    4.70  \n",
       "...     ...         ...     ...                          ...     ...  \n",
       "9833   2860  KVD Beauty  powder              dry,oily,normal    4.00  \n",
       "9834   2860  KVD Beauty  powder  combination,dry,oily,normal    4.50  \n",
       "9835    489   L.A. Girl  powder  combination,dry,oily,normal    2.80  \n",
       "9836    489   L.A. Girl  powder  combination,dry,oily,normal    4.00  \n",
       "9837    571   L.A. Girl  powder  combination,dry,oily,normal    4.10  \n",
       "\n",
       "[7807 rows x 9 columns]"
      ]
     },
     "execution_count": 62,
     "metadata": {},
     "output_type": "execute_result"
    }
   ],
   "source": [
    "data"
   ]
  },
  {
   "cell_type": "code",
   "execution_count": 63,
   "id": "08a6119f",
   "metadata": {},
   "outputs": [],
   "source": [
    "data.to_excel(\"C:\\\\Users\\\\User\\\\OneDrive\\\\Desktop\\\\THE DATA\\\\Project1\\\\Cosmetic_data.xlsx\",sheet_name='Cosmetic',index=False)"
   ]
  },
  {
   "cell_type": "markdown",
   "id": "cd18b067",
   "metadata": {},
   "source": [
    "# THE END"
   ]
  }
 ],
 "metadata": {
  "kernelspec": {
   "display_name": "Python 3 (ipykernel)",
   "language": "python",
   "name": "python3"
  },
  "language_info": {
   "codemirror_mode": {
    "name": "ipython",
    "version": 3
   },
   "file_extension": ".py",
   "mimetype": "text/x-python",
   "name": "python",
   "nbconvert_exporter": "python",
   "pygments_lexer": "ipython3",
   "version": "3.11.4"
  }
 },
 "nbformat": 4,
 "nbformat_minor": 5
}
